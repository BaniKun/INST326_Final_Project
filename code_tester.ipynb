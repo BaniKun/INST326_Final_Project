{
 "cells": [
  {
   "cell_type": "code",
   "execution_count": 4,
   "metadata": {},
   "outputs": [],
   "source": [
    "import calendar\n",
    "import datetime as dt\n",
    "import classes"
   ]
  },
  {
   "cell_type": "code",
   "execution_count": 19,
   "metadata": {},
   "outputs": [
    {
     "name": "stdout",
     "output_type": "stream",
     "text": [
      "Created dictionary: {'2025-04-23': {'events': ['Meeting with John', 'Submit report'], 'notes': 'Remember to follow up on action items'}}\n",
      "Data for 2025/4/23: {'events': ['Meeting with John', 'Submit report'], 'notes': 'Remember to follow up on action items'}\n"
     ]
    }
   ],
   "source": [
    "def create_day_dictionary(year, month, day, data):\n",
    "  \"\"\"\n",
    "  Creates a dictionary for a specific day with the provided data.\n",
    "\n",
    "  Args:\n",
    "    year: The year (e.g., 2024).\n",
    "    month: The month (1-12).\n",
    "    day: The day of the month.\n",
    "    data: The data to store in the dictionary.\n",
    "\n",
    "  Returns:\n",
    "    A dictionary with the date as the key and the data as the value.\n",
    "  \"\"\"\n",
    "  date_key = datetime.date(year, month, day).strftime(\"%Y-%m-%d\")\n",
    "  return {date_key: data}\n",
    "\n",
    "def read_day_dictionary(dictionary, year, month, day):\n",
    "  \"\"\"\n",
    "  Reads and returns the data from the dictionary for a specific day.\n",
    "\n",
    "  Args:\n",
    "    dictionary: The dictionary containing the date and data.\n",
    "    year: The year.\n",
    "    month: The month.\n",
    "    day: The day.\n",
    "\n",
    "  Returns:\n",
    "    The data associated with the specified date, or None if not found.\n",
    "  \"\"\"\n",
    "  date_key = datetime.date(year, month, day).strftime(\"%Y-%m-%d\")\n",
    "  return dictionary.get(date_key)\n",
    "\n",
    "# Example usage\n",
    "year = 2025\n",
    "month = 4\n",
    "day = 23\n",
    "data = {\"events\": [\"Meeting with John\", \"Submit report\"], \"notes\": \"Remember to follow up on action items\"}\n",
    "\n",
    "day_dictionary = create_day_dictionary(year, month, day, data)\n",
    "print(f\"Created dictionary: {day_dictionary}\")\n",
    "\n",
    "retrieved_data = read_day_dictionary(day_dictionary, year, month, day)\n",
    "print(f\"Data for {year}/{month}/{day}: {retrieved_data}\")"
   ]
  },
  {
   "cell_type": "code",
   "execution_count": 17,
   "metadata": {},
   "outputs": [
    {
     "name": "stdout",
     "output_type": "stream",
     "text": [
      "Doesn't work\n"
     ]
    }
   ],
   "source": [
    "occurrance = \"Yearrly\"\n",
    "\n",
    "if occurrance.casefold() == \"Yearly\".casefold():\n",
    "    print(\"works\")\n",
    "else :\n",
    "    print(\"Doesn't work\")"
   ]
  },
  {
   "cell_type": "code",
   "execution_count": 13,
   "metadata": {},
   "outputs": [
    {
     "data": {
      "text/plain": [
       "29"
      ]
     },
     "execution_count": 13,
     "metadata": {},
     "output_type": "execute_result"
    }
   ],
   "source": [
    "(datetime.date(2025,4,30) - datetime.date(2025,4,1)).days"
   ]
  },
  {
   "cell_type": "code",
   "execution_count": 1,
   "metadata": {},
   "outputs": [
    {
     "name": "stdout",
     "output_type": "stream",
     "text": [
      ".pkl\n"
     ]
    }
   ],
   "source": [
    "myString = \"myCalendar.pkl\"\n",
    "print(myString[-4:])"
   ]
  },
  {
   "cell_type": "code",
   "execution_count": 2,
   "metadata": {},
   "outputs": [],
   "source": [
    "wrong_input = True\n",
    "while wrong_input:\n",
    "    filename = input(\"Enter the filename of the calendar that you want to open: \")\n",
    "    if filename[-4:] != \".pkl\":\n",
    "        print(\"Please enter the filename correctly.\")\n",
    "    else:\n",
    "        wrong_input = False"
   ]
  },
  {
   "cell_type": "code",
   "execution_count": 6,
   "metadata": {},
   "outputs": [
    {
     "name": "stdout",
     "output_type": "stream",
     "text": [
      "2025-05-25\n"
     ]
    }
   ],
   "source": [
    "wrong_date_input = True\n",
    "while wrong_date_input:\n",
    "    try:\n",
    "        date_input = input(\"When was this expense made?(Input in MM/DD/YYYY format)\\n\")\n",
    "        date = dt.date(int(date_input.split(\"/\")[2]), int(date_input.split(\"/\")[0]), int(date_input.split(\"/\")[1]))\n",
    "        print(date)\n",
    "        wrong_date_input = False\n",
    "    except:\n",
    "        print(\"Please input the date correctly.\")"
   ]
  }
 ],
 "metadata": {
  "kernelspec": {
   "display_name": "base",
   "language": "python",
   "name": "python3"
  },
  "language_info": {
   "codemirror_mode": {
    "name": "ipython",
    "version": 3
   },
   "file_extension": ".py",
   "mimetype": "text/x-python",
   "name": "python",
   "nbconvert_exporter": "python",
   "pygments_lexer": "ipython3",
   "version": "3.12.4"
  }
 },
 "nbformat": 4,
 "nbformat_minor": 2
}
