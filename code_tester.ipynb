{
 "cells": [
  {
   "cell_type": "code",
   "execution_count": 5,
   "metadata": {},
   "outputs": [],
   "source": [
    "import calendar\n",
    "import datetime\n",
    "import classes"
   ]
  },
  {
   "cell_type": "code",
   "execution_count": 19,
   "metadata": {},
   "outputs": [
    {
     "name": "stdout",
     "output_type": "stream",
     "text": [
      "Created dictionary: {'2025-04-23': {'events': ['Meeting with John', 'Submit report'], 'notes': 'Remember to follow up on action items'}}\n",
      "Data for 2025/4/23: {'events': ['Meeting with John', 'Submit report'], 'notes': 'Remember to follow up on action items'}\n"
     ]
    }
   ],
   "source": [
    "def create_day_dictionary(year, month, day, data):\n",
    "  \"\"\"\n",
    "  Creates a dictionary for a specific day with the provided data.\n",
    "\n",
    "  Args:\n",
    "    year: The year (e.g., 2024).\n",
    "    month: The month (1-12).\n",
    "    day: The day of the month.\n",
    "    data: The data to store in the dictionary.\n",
    "\n",
    "  Returns:\n",
    "    A dictionary with the date as the key and the data as the value.\n",
    "  \"\"\"\n",
    "  date_key = datetime.date(year, month, day).strftime(\"%Y-%m-%d\")\n",
    "  return {date_key: data}\n",
    "\n",
    "def read_day_dictionary(dictionary, year, month, day):\n",
    "  \"\"\"\n",
    "  Reads and returns the data from the dictionary for a specific day.\n",
    "\n",
    "  Args:\n",
    "    dictionary: The dictionary containing the date and data.\n",
    "    year: The year.\n",
    "    month: The month.\n",
    "    day: The day.\n",
    "\n",
    "  Returns:\n",
    "    The data associated with the specified date, or None if not found.\n",
    "  \"\"\"\n",
    "  date_key = datetime.date(year, month, day).strftime(\"%Y-%m-%d\")\n",
    "  return dictionary.get(date_key)\n",
    "\n",
    "# Example usage\n",
    "year = 2025\n",
    "month = 4\n",
    "day = 23\n",
    "data = {\"events\": [\"Meeting with John\", \"Submit report\"], \"notes\": \"Remember to follow up on action items\"}\n",
    "\n",
    "day_dictionary = create_day_dictionary(year, month, day, data)\n",
    "print(f\"Created dictionary: {day_dictionary}\")\n",
    "\n",
    "retrieved_data = read_day_dictionary(day_dictionary, year, month, day)\n",
    "print(f\"Data for {year}/{month}/{day}: {retrieved_data}\")"
   ]
  },
  {
   "cell_type": "code",
   "execution_count": 17,
   "metadata": {},
   "outputs": [
    {
     "name": "stdout",
     "output_type": "stream",
     "text": [
      "Doesn't work\n"
     ]
    }
   ],
   "source": [
    "occurrance = \"Yearrly\"\n",
    "\n",
    "if occurrance.casefold() == \"Yearly\".casefold():\n",
    "    print(\"works\")\n",
    "else :\n",
    "    print(\"Doesn't work\")"
   ]
  },
  {
   "cell_type": "code",
   "execution_count": 6,
   "metadata": {},
   "outputs": [
    {
     "ename": "AttributeError",
     "evalue": "'Budget' object has no attribute 'occurrance'",
     "output_type": "error",
     "traceback": [
      "\u001b[0;31m---------------------------------------------------------------------------\u001b[0m",
      "\u001b[0;31mAttributeError\u001b[0m                            Traceback (most recent call last)",
      "Cell \u001b[0;32mIn[6], line 1\u001b[0m\n\u001b[0;32m----> 1\u001b[0m myBudget \u001b[38;5;241m=\u001b[39m classes\u001b[38;5;241m.\u001b[39mBudget(\u001b[38;5;241m1200\u001b[39m, \u001b[38;5;124m\"\u001b[39m\u001b[38;5;124myearly\u001b[39m\u001b[38;5;124m\"\u001b[39m, \u001b[38;5;241m4\u001b[39m, \u001b[38;5;241m2025\u001b[39m)\n\u001b[1;32m      2\u001b[0m \u001b[38;5;28mprint\u001b[39m(myBudget)\n",
      "File \u001b[0;32m~/Documents/GitHub/INST326_Final_Project/classes.py:21\u001b[0m, in \u001b[0;36mBudget.__init__\u001b[0;34m(self, income, occurrance, month, year)\u001b[0m\n\u001b[1;32m     18\u001b[0m \u001b[38;5;28mself\u001b[39m\u001b[38;5;241m.\u001b[39myear \u001b[38;5;241m=\u001b[39m year\n\u001b[1;32m     19\u001b[0m \u001b[38;5;28mself\u001b[39m\u001b[38;5;241m.\u001b[39mmonth \u001b[38;5;241m=\u001b[39m month\n\u001b[0;32m---> 21\u001b[0m \u001b[38;5;28mself\u001b[39m\u001b[38;5;241m.\u001b[39mset_recommended_budget()\n",
      "File \u001b[0;32m~/Documents/GitHub/INST326_Final_Project/classes.py:27\u001b[0m, in \u001b[0;36mBudget.set_recommended_budget\u001b[0;34m(self)\u001b[0m\n\u001b[1;32m     26\u001b[0m \u001b[38;5;28;01mdef\u001b[39;00m \u001b[38;5;21mset_recommended_budget\u001b[39m(\u001b[38;5;28mself\u001b[39m):\n\u001b[0;32m---> 27\u001b[0m     \u001b[38;5;28;01mif\u001b[39;00m \u001b[38;5;28mself\u001b[39m\u001b[38;5;241m.\u001b[39moccurrance\u001b[38;5;241m.\u001b[39mcasefold() \u001b[38;5;241m==\u001b[39m \u001b[38;5;124m\"\u001b[39m\u001b[38;5;124mYearly\u001b[39m\u001b[38;5;124m\"\u001b[39m\u001b[38;5;241m.\u001b[39mcasefold():\n\u001b[1;32m     28\u001b[0m         \u001b[38;5;28mself\u001b[39m\u001b[38;5;241m.\u001b[39myearly_budget \u001b[38;5;241m=\u001b[39m \u001b[38;5;28mself\u001b[39m\u001b[38;5;241m.\u001b[39mincome\n\u001b[1;32m     30\u001b[0m         \u001b[38;5;28mself\u001b[39m\u001b[38;5;241m.\u001b[39mmonthly_budget \u001b[38;5;241m=\u001b[39m \u001b[38;5;28mself\u001b[39m\u001b[38;5;241m.\u001b[39mincome \u001b[38;5;241m/\u001b[39m \u001b[38;5;241m12\u001b[39m\n",
      "\u001b[0;31mAttributeError\u001b[0m: 'Budget' object has no attribute 'occurrance'"
     ]
    }
   ],
   "source": [
    "myBudget = classes.Budget(1200, \"yearly\", 4, 2025)\n",
    "print(myBudget)"
   ]
  }
 ],
 "metadata": {
  "kernelspec": {
   "display_name": "base",
   "language": "python",
   "name": "python3"
  },
  "language_info": {
   "codemirror_mode": {
    "name": "ipython",
    "version": 3
   },
   "file_extension": ".py",
   "mimetype": "text/x-python",
   "name": "python",
   "nbconvert_exporter": "python",
   "pygments_lexer": "ipython3",
   "version": "3.12.4"
  }
 },
 "nbformat": 4,
 "nbformat_minor": 2
}
